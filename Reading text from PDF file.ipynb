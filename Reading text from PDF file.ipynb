{
 "cells": [
  {
   "cell_type": "code",
   "execution_count": 2,
   "metadata": {},
   "outputs": [],
   "source": [
    "from PIL import Image "
   ]
  },
  {
   "cell_type": "code",
   "execution_count": 3,
   "metadata": {},
   "outputs": [],
   "source": [
    "import pytesseract "
   ]
  },
  {
   "cell_type": "code",
   "execution_count": 4,
   "metadata": {},
   "outputs": [],
   "source": [
    "import sys "
   ]
  },
  {
   "cell_type": "code",
   "execution_count": 5,
   "metadata": {},
   "outputs": [],
   "source": [
    "from pdf2image import convert_from_path "
   ]
  },
  {
   "cell_type": "code",
   "execution_count": 6,
   "metadata": {},
   "outputs": [],
   "source": [
    "import os"
   ]
  },
  {
   "cell_type": "code",
   "execution_count": 7,
   "metadata": {
    "scrolled": true
   },
   "outputs": [],
   "source": [
    "#Coverting PDF to image first\n",
    "pages = convert_from_path(\"Q3_Image_File.pdf\", 500)"
   ]
  },
  {
   "cell_type": "code",
   "execution_count": 8,
   "metadata": {},
   "outputs": [],
   "source": [
    "for page in pages:\n",
    "    page.save('out.jpg', 'PNG')"
   ]
  },
  {
   "cell_type": "code",
   "execution_count": 9,
   "metadata": {},
   "outputs": [],
   "source": [
    "#Now converting image to string\n",
    "from pytesseract import image_to_string \n",
    " \n",
    "image = Image.open('out.jpg', mode='r') \n",
    "image_content = image_to_string(image)"
   ]
  },
  {
   "cell_type": "code",
   "execution_count": 10,
   "metadata": {},
   "outputs": [],
   "source": [
    "abc = image_content.replace('\\n',' ')"
   ]
  },
  {
   "cell_type": "code",
   "execution_count": 11,
   "metadata": {},
   "outputs": [
    {
     "data": {
      "text/plain": [
       "'4  STATE  DECCANHERALD Wednesday June 10, 2020     Aadhaar enrolment now under  Jana Sevaka  BENGALURU, DHNS: The state government will now bring enrolment for Aadhaar, APL card and voters ID under the flagship Jana Sevaka service delivery programme.  According to Sakala Min- ister S Suresh Kumar, the Jana Sevaka programme coveres 50 services, includ- ing issue caste and income certificates, pension, labour and health, among others. Under the programme, ser- vices are delivered at the doorsteps of citizens at a nominal fee.  \"Aaadhaar has become mandatory for almost all transactions of late. Hence, the department decided to include it under Jana Sevaka to help senior citizens and those who cannot afford to go out themselves to get the en- rolment done,\" Kumar said, after holding a meeting with officials.  The Jana Sevaka pro- gramme, which was tem- porarily stopped owing to the lockdown, would be restarted again, Kumar said, adding that the Jana Sevaka personnel would take all Covid-related precautionary measures while interacting with citizens.  FOR ADVERTISEMENT QUERIES  * OBITUARY *e REMEMBRANCES  Contact:  Santhosh : 9880856233  Jerry : 9731810277 Tanveer _ : 9886213331 Office: 080-45557160/163 164        Almatti plant exceeds power     ing capacity. All six will become  generation ar et in 2019-20  Six units combined produced 631.5 MUs as against target of 447 MUs     ¥ ALMATTI (VIJAYAPURA Power generation exceeded DISTRICT), DHNS the target by 184 MUs over the planned 447 MUs owing to the  he Almatti hydel power  plant has generated 631.5  million units (MU) of pow- erin 2019-20 asagainst its target of 447 MUs.  This happenstobethesecond highest power generation in the last 12 years. The plant had pro- duced 664 MUs in 2007-08.  increased inflows into the Lal Bahadur Shastri Sagar (Almatti dam), last season.  R Y Shirali, Superintending Engineer, Karnataka Power Corporation Limited (Almatti project) told DH, \"The govern- ment has setatarget of 466 MUs for the Almatti hydel power     There are five power generatlon units of 55 MW capacity  each at Almatti plant. on rice pHoto  plant for 2020-21.  Megawatt (MW) capacity each The plant has five units of 55 - and one unit of 15 MW generat-  operational if the reservoir reaches 519 metres and author- ities start pumping/releasing 45,000 cusees from the said height, RY Shirali explained.  Ifallthesix units are function- al, the Almatti plant can gener- ate 6 MUs daily.  Only one unit with 15 MW ca- pacity was functional for three days in the last one week. Even that too has stopped producing power from Saturday. For now, all six units have stopped gener- ating power.  The units will run to their op- timum level in July, if the reser- voir continues to receive steady inflows, the Superintending Engineer added.              India, China begin moves to end stand-off  China, from Page 1  India had moved a battalion from its brigade located at Dualat Beg Oldie after the PLA increased its troop strength.  The Chinese needling at the Galwan valley appar- ently was to slow down the construction of a feeder link to the Darbuk-Shy- ok-DBO road that was made operational last year, providing the much needed connectivity to the world\\'s highest airstrip at DBO, close to the Karakoram pass.  But neither side crossed the LAC at Galwan valley, which was never really a contested area.  The resolution of the stand-off at Finger-4 area, however, would take more time as the area between Finger 4 and Finger 8 re- mains a hotly contested one.  For years, the finger are- as and the 135-km-long pris- tine Ladakh lake remained a flash point between Indian and Chinese troops.  According to the Indian perception of the Line of Actual Control, the disput- ed border runs through Fin- ger 8 (the spurs or mountain ridges are named as fingers) because of which Indian troops could go up to that point for patrolling. Going by the Chinese perception, the LAC runs through Fin- ger 4.     ALL GEARED UP     Urban Development M|n|ster Byrathl Basavaraj mteracts W|th CIVIC workes in Hubballi on Tuesday. oH PpHoTO/TAJUDDIN AZAD     Experts junk govt denial of community spread  Community, from Page 1  The survey was carried out in 60 districts and 10 hard- est-hit cities.  Asked why the govern- ment was silent on com- munity transmission, John argued that the officials probably have a mindset that they knew \"all sources of infection\", which was an \"obviously untenable claim\".  \"This may have made them deny community transmission defined as \\'un- known person(s) transmit- ting infection\\'. Such claim also shows lack of deep un- derstanding of the dynamics of introduced epidemics.\"  Medical scientists also ob- served that one of the rea- sons for the government\\'s denial could be a line of thinking that the acceptance of community transmissions is tantamount to acceptance  of the government\\'s failure to stem the outbreak.  \"The government should not feel embarrassed about it. It is fully expected. This is how an epidemic grows. It cannot be considered as a failure on the part of the government because of the nature of the disease. They (officials) are worried that this may be called as their failure, but nobody in the world can do anything about it,\" said Jayaprakash Muliyil, former principal, CMC Vel- lore, and chairperson of the scientific advisory commit- tee of the National Institute of Epidemiology, Chennai- one of the ICMR institutes.  Two ICMR studies pub- lished in the last two months gave a clear indication of the Covid-19 outbreak moving from the local transmission stage to community trans- mission.        Overview  Rain/ thundershowers likely to occur at isolated places over South Interior Karna- taka and Coastal Karnataka Dry weather prevailed over North Interior Karnataka. Forecast June 10: Rainfall                 INTERIOR SOUTH Stations Max Min Rain Agumbe 27.5 13.5 00 Bengaluru 32.5 21.6 TR Ballari NA _ NA NA     Chamarajanagar NA _ NA NA Chikkamagaluru 30 20 00                                         occuredatisolated places _ Chitradurga __ 33.1 22.1 00 over the State. Davangere 33 21.3 03 Hassan 33.4 22.8 00 INTERIOR NORTH Mysuru 30.9 22 2.8 Stations Max Min - Rain _ Madikeri 23.8 18.3 6.6 Belagavi 29.5 NA ___00 _ Kolar 34.4 228 00 Vijayapura 34.6 21.9 00 Dharwad 31.5 20.5 00 OTHER STATIONS Haveri 30.6 22 00 _ Stations Max Min Rain Kalaburagi 37.1 25.3 00 _ New Delhi 37.6 26.9 00 Raichur 37 - 24.6 00 _ Kolkata 36.5 27.4 4.4 COASTAL Mumbai 32.2 27 00 Honnavar 30.9 23.1 14.8 - Chennai 39.7 28.8 00 Karwar 30.2 23.9 13.8 Pune 31.3 21.3 00 Shirali 30.4 26.3 2.1 - Hyderabad 37.5 26.5 00 Mangaluru 31.8 23.5 26.2 Trivandrum 32.4 25.2 30.5        C0®  s  More value, more impact     080 - 45557160 /161/ 162/ 163/ 164/ 98451 14560 / 97318 10277/ 9886213331  email: dhclassifieds@deccanherald.co.in  >>     Situation WANTED FRESH Required REQUIRES LADY  Graduates from an  Teachers for English  KAIRALEE NIKETHAN  Engg/ Production Technical  ACCOUNTANT - 3 to 5 years of experience for CnT Architects, Bangalore.Apply in website www.cnt.co.in  ESTATE Technology     EDUCATION TRUST  GOLD APPRAISERS ( Establlshed by Kerala Samajam (R) Bangalore)  stream (2019 & 2020 (M.A.BEd). Interested INVEST 1,00,000/- and                    Experienced 3 Years Good T- F | | | Indiranagar High School Office Boys] We, Partners of p t R passed) to be trained | Salary Incentives Reputed candidates can send 9 yn imi GET MONTHLY 8,000/- M/s.Sunny Logistics have lost alnting HRD & Admin Bangalore Company Cal (Teachers for Govt. Aided Post) A PRIVATE Limited Peon ~ original‘iggg’e cﬁﬁq\\'sséffaégnim Contractors as AGENCY_PARTNERS | gsee221009 9739678105. | the Resume mailto: | |e Assistant Teacher Arts | | company in Peenya is Adil] h. allotment letter with KIADB in MNC for Prospective srikrishnainternational (English & Social Science) f - 9626123812/ dtd. on 14.02.2018 & regd. on | | JAVAGALSHRI PRIME ADMIN EXECUTIVE - 2 to 5 c Contact: a B.A, RB ( Category - ST) looking suitable wot Liierience 6381003463 wih Nathan ate | | PAINTERS. We undertake years of experience for CnT Career. COntact: sS@yano0.COM o Assmqm Teacher-Hindi 0361005403 9 PUI | painting work for all  Candidates for the  following Posts: (1  TOOL-MAKER MANAGER: with  minimum 5 years experience in plastic  in MS EXCEL & WORD (Commerce graduates preferred) Ladies between 22- 35 years Candidates can Contact: 08025578412 OR 08025512820 between 10.00 AM to 5.00 PM.  for Plot No.42/43, Doddaballapur, If anyone finds please call: 9845218643  p or nearby Police Station. Business Offers  Business For Sale  commercial and residential buildings. Call: 8884088862/ 8884188826  Architects, Bangalore Apply in website www.cnt.co.in  Teachers/ 97400-90431 Professors 97400-76517  B.A, B.Ed (Hindi Major ) ( Category-1 )  e Assistant Teacher-Kannada B.A, B.Ed ( General )  e Assistant Teacher- PCM ( Maths) - B.Sc, B.Ed  ( General Women)  RBANM\\'s EDUCATIONAL F  CHARITIES  # 24, Gangadara Chetty Road, Bengaluru - 560 042, Ph: 080-25541173 Career Opportunities- Applications     WANTED FEMALE Receptionist, Architects,           i i invited for various positions f Shep - oo || nese o educstim whl nenad | - Miection Moulding APPRENTICE Sela w O00 1019 Qualification: | | | _ or subject as teaching method) with sitiac FULLY FurNisHED || Accommodation immediately, - __ | Ummm, Degree, Post graduate with B.Ed., in English/History/Economics.| | | Age limit - As per Govt. norms capability to handle dge Busi p Available T Diploma All trades, gags) Egﬁﬁﬂé’tﬁge- Qualification: Any graduate with __ FITTER: With 2-3 years Pri . Industrial ANC _| c)) c riyo pedroom 1100 30-70, Bangalore only, Earn: Specialization in Art. of experience with Price Serious buyers Factory Sft., flat near KSN Park, No.  Stiphend 10,500- 30,000- 50,000 Contact-  Contact 9945071400.  [e} Qualification: Any graduate with good 494, VIJAYA SADANA, 3rd \\'B\\'                                                                                                        15,000/\\' + food and 9008305194/9880441530 computer knowledge (Tally, MS Office). Kairalee Nikethan Education Trust ood skills. (3 Flat ($1055, Eanﬁshtankari III . age, Contact owner Transport Free. Ea | CNE | 0 0 obo vehicle 3000 SQFT RCC ROOf | 9535773386. Contact 9108190105 Hospital & Qualification: B.P.Ed., (Alﬂed by thtlel govt of Isarnuiuku) With 10-15 years Of | Grand Punto 2012 _ _- With Water, Power At e Qualification: Degreee with NTT/ 5th Main, 9th cross, Indiranagar experience in model, KAO4 MK 4463. Industrial 2972861055 Medical Jobs Montessori Trained Preferred. 1st Stage, Bangalore -560 038. . Contact: 9845622333 Peenya 4th Phase, & Factory 7026012266 Ph:25256754 /25250817 / 25217798 managIng a ___ | TTT, Bangalore Call: Mob.:9 | | rrr att Vacancies: 01. Qualification : Diploma Imad: kneirfltimssizlgtfﬁlggsggmuﬂ com manufacturing 9663374086 Tumkur Road LAB TECHNICIAN in Civil engineering B E (preferred) Experience: 3 to 4 years www knetrustinstitutions. orc Industry.with the 080-2836561 Email: GOOD OPPORTUNITY: Pharmacist required of experience in Civil engineering, Computer Auto Cad. knowlwadge of legal jurchase@vetrilindia.c AVAILABLE QE Skills : Excellent communication Skills, Interpersonal compliances, involved Newly Graduates for Manjushree development skills and computer knowledge is a must - >\" - om INDUSTRIAL/ NRI\\'S Housewive\\'s Speciality Hospital for all the applicants. GNANA GANGOTHRI majorly in Plastic Business to Warehouse Retires Businessman 22.St John\\'s Road Vidyalaya, 7th CFOSSL Injection MOU|ding. (4) BUSIness - \\' ~ * 7th Main.Ittamad ACCOUNTANT: With Problem like - Business, Love Marriage House Nelamangala, Part /Full time Bangalore U Cee N Busi Foreign Tour, Husband / Wife Problem. Dobespet. 1 to 100 contact: 9972169164. Cantonment. Bengaluru-85. Phone- knowledge of Tally, 3 Uusiness | HOUSE- RENT/LEASE: acres. 1000 to ~a . . Love & VASHIKARAN SPECIALIST Single Bedroom/ Specious . . V p . R C be Limited Time. Ph:25365325 9448954906 R-eqmres ear\\'s Experience LOOKING FOR a 4000- | Hall in Aishwarya Layout, 1,00,000 sqft. NAIK: English Medium Please send resumes | 5000 sqft built up area for [ETN ENTRE | Doddakallasandra, . hrihol il automobile workshop in Black M’a IG ¢ Kanakapura road. M Experienced to hrihpl@gmail.com Bangalore East preferably EVIl Sprltg 3 Contact: 7090466137 - Hennuru, Thanisandra Main Da ale | Witerng - | Neo oy fong cance.... [ep 3a - MATHEMATICS, Uursery to workshop ready to takeover. Cid Pain, Kohk Bandan a ** \" JO FOR immediate SCIENCE(PCM), SOCIAL- standard for All Security & Contact; 8892110694 .. ...... { DH 1 f STUDIES, HINDI, DRAWING, f f r One Call Get your Problem Solution poing Appointment. CRAFT PRIMARY and HIGH Subjects with Detectives Finance ] a suBjEcts:sociAL- | ER BA../B.Sc../B.Com../ science.eNcLiSH .- | ACCOUNTANT tly yorkine | | Masters/NTHD.Ed./ | | reouireo marketinc RECRUITMENT Jan MATHAMATICS. P.E | tcome fox oor B.Ed..etc..Online _ | MANAGERS (Bangalore and | INVESTMENTS # % 18 \\\\ (High-School)and Co- ngﬁgﬁﬁpghlg? fang“ Classes Knowledge and XIARKETICNthort security LOANS Available BOOK AD IN __ ., f wery 9\" . gency. Contac 1 ordinator. PATEL RAMA REDDY Dedicated Teachers - | 9880601114 (office in From NRI\\'s on low ENGLISH HIGH SCHOOL, ( . DECCAN HERALD + PRAJAVANI Contact:St.YASH #313/1, 7th Cross, Patel are Most Encouraged. Kalyanagat) ,,., Interest Against PUBLIC-SCHOOL Rama Reddy Marga, Domlur Properties, Business Change of Name ON WEDNESDAY & SUNDAY BOOK AD IN Layout, Bangalore-71 . - Kempegowdanagar Phone:25350421 Accounts & Salaries, Projects DECCAN HERALD + PRAJAVANI Magadi-Main-road, _ | ...... Part-Time Jop Finance Contact: I, SANDHYA RANI W/o. art- Ime JODS Mohamed Abdul Mannan, FRIDAY, SATURDAY & SUNDAY Bangalore-91.Phone: | gavatHRI _ 080-43029162/ Call- EA/a, SeBcong FIPoor, #78, 3rd VIDYANIKETAN, Off ain, Beside Poornima o 23586884) 51) WANTED - B.COM or Whatapp Hospital, Kausernagar, 9066242255 Requires: Primary teachers: GRADUATES RESIDING IN 00971555707986 R.T.Nagar Post, Bangalore- m B.A, B.Ed, M.A, Kannada, AND AROUND SOUTH OF 560032 Have Changed My Hind, English /Sqcial GOLDEN BENGALURU HAVING AftiGavit bated: 0506-2020 15 WORDS Science. B.P.Ed- P.E Teacher idavit Dated: 09-06- FOR 15 WORDS > Colntact: 9900035670. Send OPPORTUNITY An GOOD TRACK RECORD Before Notary A. IDINABBA, x & ”IOTHER aﬂARY School- resume with recent photo to: Fresh Graduates WITH 3 TO 5 YEARS pomp dvised o make || LRA ee € 52) TEACHERS for HIGH and oa i Retired/ Defence/ _ | EXPERIENCE IN GST AND abpropriate thorough enduiries s For More Details Contact: § rrimary school: English; _ | ... TALLY TO WORK As . romre acting won al I, KoUusaLyaA |___ , S Maths/ Science/ Social Bank/ Government _| accounts / AUDIT - (his newebaper | | KUPPUSWAMY, residing at For More Details Contact: _ § 9880856233 9731810277 studies. Walkin Interview: Professionals and _| AsSISTANTS.MAIL your - || o t || Bengaluru-96, have changed 11.00am- 1.00pm. 080- __ | | SANO = | Dba D NL D- does not vouch or subscribe to | | my name as KOUSALYA 9880856233 9731810277 9901641752 | 9845114560 | 9886213331) psrsissi/a1244902 ...... To Place your Classified - | House Wives. Contact: | RESUME TO the claims and representations | | NARASIMHACHAR, vide  080- 45557163 || 45557164  Ads Contact:     9448824318.  headoffice@acharya.co MOBILE NO. : 9901612959  made by advertisers.  affadavitdated 9/6/2020 before Notary Sangayya.T.H., Bangalore  9901641752 9845114560 080- 45557163     9886213331 45557164'"
      ]
     },
     "execution_count": 11,
     "metadata": {},
     "output_type": "execute_result"
    }
   ],
   "source": [
    "abc"
   ]
  },
  {
   "cell_type": "code",
   "execution_count": null,
   "metadata": {},
   "outputs": [],
   "source": []
  }
 ],
 "metadata": {
  "kernelspec": {
   "display_name": "Python 3",
   "language": "python",
   "name": "python3"
  },
  "language_info": {
   "codemirror_mode": {
    "name": "ipython",
    "version": 3
   },
   "file_extension": ".py",
   "mimetype": "text/x-python",
   "name": "python",
   "nbconvert_exporter": "python",
   "pygments_lexer": "ipython3",
   "version": "3.7.6"
  }
 },
 "nbformat": 4,
 "nbformat_minor": 4
}
