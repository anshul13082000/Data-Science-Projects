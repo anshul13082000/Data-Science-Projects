{
 "cells": [
  {
   "cell_type": "code",
   "execution_count": 1,
   "metadata": {},
   "outputs": [],
   "source": [
    "dict1 = {\n",
    "    'mallika_1.jpg':\"mallika_1 file data\",\n",
    "     'dog005.jpg':\"dog005 file data\",\n",
    "    'grandson_2018_01_01.png':\"grandson_2018_01_01 file data\",\n",
    "    'dog008.jpg':\"dog008 file data\",\n",
    "    'mallika_6.jpg':\"mallika_6 file data\",\n",
    "    'grandson_2018_5_23.png':\"grandson_2018_5_23 file data\",\n",
    "    'dog01.png':\"dog01 file data\",\n",
    "    'mallika_11.jpg':\"mallika_11 file data\",\n",
    "    'mallika2.jpg':\"mallika2 file data\",\n",
    "    'grandson_2018_02_5.png':\"grandson_2018_02_5 file data\",\n",
    "    'grandson_2019_08_23.jpg':\"grandson_2019_08_23.jpg file data\",\n",
    "    'dog9.jpg':\"dog9.jpg file data\",\n",
    "    'mallika05.jpg':\"mallika05 file data\"\n",
    "}"
   ]
  },
  {
   "cell_type": "code",
   "execution_count": 2,
   "metadata": {},
   "outputs": [
    {
     "name": "stdout",
     "output_type": "stream",
     "text": [
      "dog005.jpg\n",
      "dog008.jpg\n",
      "dog01.png\n",
      "dog9.jpg\n",
      "grandson_2018_01_01.png\n",
      "grandson_2018_02_5.png\n",
      "grandson_2018_5_23.png\n",
      "grandson_2019_08_23.jpg\n",
      "mallika05.jpg\n",
      "mallika2.jpg\n",
      "mallika_1.jpg\n",
      "mallika_11.jpg\n",
      "mallika_6.jpg\n"
     ]
    }
   ],
   "source": [
    "for i in sorted (dict1.keys()) :  \n",
    "         print(i, end = \"\\n\") "
   ]
  },
  {
   "cell_type": "code",
   "execution_count": 3,
   "metadata": {},
   "outputs": [
    {
     "name": "stdout",
     "output_type": "stream",
     "text": [
      "Write 'file name' (if you want to see the file)\n",
      "Or\n",
      "Write 'sort by filename' if you wanna sort the files\n",
      "Or\n",
      "Write 'none' for nothing!\n"
     ]
    }
   ],
   "source": [
    "print(\"Write 'file name' (if you want to see the file)\\nOr\\nWrite 'sort by filename' if you wanna sort the files\\nOr\\nWrite 'none' for nothing!\")"
   ]
  },
  {
   "cell_type": "code",
   "execution_count": 4,
   "metadata": {},
   "outputs": [
    {
     "name": "stdout",
     "output_type": "stream",
     "text": [
      "dog005.jpg\n",
      "dog005 file data\n"
     ]
    }
   ],
   "source": [
    "s = input()\n",
    "s = s.lower()\n",
    "if s == \"sort by filename\":\n",
    "    for i in sorted (dict1.keys()) :  \n",
    "         print(i, end = \"\\n\") \n",
    "elif s == 'none':\n",
    "    pass\n",
    "else:\n",
    "    if s in dict1.keys():\n",
    "        print(dict1[s])\n",
    "    else:\n",
    "        print(\"Not Present\")"
   ]
  },
  {
   "cell_type": "code",
   "execution_count": null,
   "metadata": {},
   "outputs": [],
   "source": []
  },
  {
   "cell_type": "code",
   "execution_count": null,
   "metadata": {},
   "outputs": [],
   "source": []
  }
 ],
 "metadata": {
  "kernelspec": {
   "display_name": "Python 3",
   "language": "python",
   "name": "python3"
  },
  "language_info": {
   "codemirror_mode": {
    "name": "ipython",
    "version": 3
   },
   "file_extension": ".py",
   "mimetype": "text/x-python",
   "name": "python",
   "nbconvert_exporter": "python",
   "pygments_lexer": "ipython3",
   "version": "3.7.6"
  }
 },
 "nbformat": 4,
 "nbformat_minor": 4
}
